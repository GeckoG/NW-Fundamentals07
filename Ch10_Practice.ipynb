{
 "cells": [
  {
   "cell_type": "code",
   "execution_count": 20,
   "metadata": {},
   "outputs": [
    {
     "name": "stdout",
     "output_type": "stream",
     "text": [
      "Hello World ~Matt Goeckel\n"
     ]
    }
   ],
   "source": [
    "from account import Account\n",
    "from decimal import Decimal\n",
    "print(\"Hello World ~Matt Goeckel\")"
   ]
  },
  {
   "cell_type": "code",
   "execution_count": 16,
   "metadata": {},
   "outputs": [
    {
     "data": {
      "text/plain": [
       "'John Green'"
      ]
     },
     "execution_count": 16,
     "metadata": {},
     "output_type": "execute_result"
    }
   ],
   "source": [
    "account1 = Account('John Green', Decimal('50.00'))\n",
    "account1.name"
   ]
  },
  {
   "cell_type": "code",
   "execution_count": 17,
   "metadata": {},
   "outputs": [
    {
     "data": {
      "text/plain": [
       "Decimal('50.00')"
      ]
     },
     "execution_count": 17,
     "metadata": {},
     "output_type": "execute_result"
    }
   ],
   "source": [
    "account1.balance"
   ]
  },
  {
   "cell_type": "code",
   "execution_count": 18,
   "metadata": {},
   "outputs": [
    {
     "ename": "ValueError",
     "evalue": "amount must be positive.",
     "output_type": "error",
     "traceback": [
      "\u001b[1;31m---------------------------------------------------------------------------\u001b[0m",
      "\u001b[1;31mValueError\u001b[0m                                Traceback (most recent call last)",
      "Cell \u001b[1;32mIn [18], line 1\u001b[0m\n\u001b[1;32m----> 1\u001b[0m \u001b[43maccount1\u001b[49m\u001b[38;5;241;43m.\u001b[39;49m\u001b[43mdeposit\u001b[49m\u001b[43m(\u001b[49m\u001b[43mDecimal\u001b[49m\u001b[43m(\u001b[49m\u001b[38;5;124;43m'\u001b[39;49m\u001b[38;5;124;43m-123.45\u001b[39;49m\u001b[38;5;124;43m'\u001b[39;49m\u001b[43m)\u001b[49m\u001b[43m)\u001b[49m\n",
      "File \u001b[1;32mc:\\Users\\Matt Goeckel\\Documents\\Northwest Missouri State\\44-608 Data Analytics Fundamentals\\mod07\\account.py:23\u001b[0m, in \u001b[0;36mAccount.deposit\u001b[1;34m(self, amount)\u001b[0m\n\u001b[0;32m     21\u001b[0m \u001b[39m# if amount is less than 0.00, raise an exception\u001b[39;00m\n\u001b[0;32m     22\u001b[0m \u001b[39mif\u001b[39;00m amount \u001b[39m<\u001b[39m Decimal(\u001b[39m'\u001b[39m\u001b[39m0.00\u001b[39m\u001b[39m'\u001b[39m):\n\u001b[1;32m---> 23\u001b[0m     \u001b[39mraise\u001b[39;00m \u001b[39mValueError\u001b[39;00m(\u001b[39m'\u001b[39m\u001b[39mamount must be positive.\u001b[39m\u001b[39m'\u001b[39m)\n\u001b[0;32m     25\u001b[0m \u001b[39mself\u001b[39m\u001b[39m.\u001b[39mbalance \u001b[39m+\u001b[39m\u001b[39m=\u001b[39m amount\n",
      "\u001b[1;31mValueError\u001b[0m: amount must be positive."
     ]
    }
   ],
   "source": [
    "account1.deposit(Decimal('-123.45'))"
   ]
  },
  {
   "cell_type": "code",
   "execution_count": null,
   "metadata": {},
   "outputs": [
    {
     "name": "stdout",
     "output_type": "stream",
     "text": [
      "\u001b[1;31mInit signature:\u001b[0m \u001b[0mAccount\u001b[0m\u001b[1;33m(\u001b[0m\u001b[0mname\u001b[0m\u001b[1;33m,\u001b[0m \u001b[0mbalance\u001b[0m\u001b[1;33m)\u001b[0m\u001b[1;33m\u001b[0m\u001b[1;33m\u001b[0m\u001b[0m\n",
      "\u001b[1;31mDocstring:\u001b[0m      Account class for maintaining a bank account balance.\n",
      "\u001b[1;31mInit docstring:\u001b[0m Initialize an Account object.\n",
      "\u001b[1;31mFile:\u001b[0m           c:\\users\\matt goeckel\\documents\\northwest missouri state\\44-608 data analytics fundamentals\\mod07\\account.py\n",
      "\u001b[1;31mType:\u001b[0m           type\n",
      "\u001b[1;31mSubclasses:\u001b[0m     \n"
     ]
    }
   ],
   "source": [
    "Account?"
   ]
  },
  {
   "cell_type": "code",
   "execution_count": 19,
   "metadata": {},
   "outputs": [
    {
     "ename": "AttributeError",
     "evalue": "'Account' object has no attribute 'withdraw'",
     "output_type": "error",
     "traceback": [
      "\u001b[1;31m---------------------------------------------------------------------------\u001b[0m",
      "\u001b[1;31mAttributeError\u001b[0m                            Traceback (most recent call last)",
      "Cell \u001b[1;32mIn [19], line 1\u001b[0m\n\u001b[1;32m----> 1\u001b[0m \u001b[43maccount1\u001b[49m\u001b[38;5;241;43m.\u001b[39;49m\u001b[43mwithdraw\u001b[49m(Decimal(\u001b[38;5;124m'\u001b[39m\u001b[38;5;124m100.00\u001b[39m\u001b[38;5;124m'\u001b[39m))\n",
      "\u001b[1;31mAttributeError\u001b[0m: 'Account' object has no attribute 'withdraw'"
     ]
    }
   ],
   "source": [
    "account1.withdraw(Decimal('100.00'))"
   ]
  }
 ],
 "metadata": {
  "kernelspec": {
   "display_name": "Python 3.10.7 64-bit",
   "language": "python",
   "name": "python3"
  },
  "language_info": {
   "codemirror_mode": {
    "name": "ipython",
    "version": 3
   },
   "file_extension": ".py",
   "mimetype": "text/x-python",
   "name": "python",
   "nbconvert_exporter": "python",
   "pygments_lexer": "ipython3",
   "version": "3.10.7"
  },
  "orig_nbformat": 4,
  "vscode": {
   "interpreter": {
    "hash": "56ac80815800fbc2a67ceaf58126df0cf77c5048f624ddd1fb56817454a3d855"
   }
  }
 },
 "nbformat": 4,
 "nbformat_minor": 2
}
